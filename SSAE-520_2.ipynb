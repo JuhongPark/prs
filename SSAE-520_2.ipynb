{
 "cells": [
  {
   "cell_type": "markdown",
   "metadata": {},
   "source": [
    "Input dropout + Sparse"
   ]
  },
  {
   "cell_type": "code",
   "execution_count": 1008,
   "metadata": {},
   "outputs": [
    {
     "name": "stdout",
     "output_type": "stream",
     "text": [
      "The autoreload extension is already loaded. To reload it, use:\n",
      "  %reload_ext autoreload\n"
     ]
    }
   ],
   "source": [
    "import numpy as np\n",
    "import os\n",
    "import sys\n",
    "import matplotlib\n",
    "import matplotlib.pyplot as plt\n",
    "import tensorflow as tf\n",
    "from sklearn.preprocessing import StandardScaler\n",
    "from itertools import product\n",
    "import pprint\n",
    "\n",
    "\n",
    "from codes.utils import *\n",
    "from codes.process import *\n",
    "\n",
    "%matplotlib inline\n",
    "%load_ext autoreload\n",
    "%autoreload 2\n",
    "\n",
    "tf.compat.v1.logging.set_verbosity(tf.compat.v1.logging.ERROR)\n",
    "pp = pprint.PrettyPrinter(indent=4)\n",
    "\n",
    "random_seed=42\n",
    "bed_root = '/home2/jpark/Projects/prs/data/bed'\n",
    "y_value = 'y'  # Fix for all analysis"
   ]
  },
  {
   "cell_type": "code",
   "execution_count": 734,
   "metadata": {},
   "outputs": [],
   "source": [
    "def reset_graph(seed=42):\n",
    "    tf.reset_default_graph()\n",
    "    tf.set_random_seed(seed)\n",
    "    np.random.seed(seed)\n",
    "    \n",
    "def shuffle_X_batch(X, batch_size):\n",
    "    rnd_idx = np.random.permutation(len(X))\n",
    "    n_batches = len(X) // batch_size\n",
    "    for batch_idx in np.array_split(rnd_idx, n_batches):\n",
    "        X_batch = X[batch_idx]\n",
    "        yield X_batch\n",
    "\n",
    "def kl_divergence(p, q):\n",
    "    return p * tf.log(p / q) + (1 - p) * tf.log((1 - p) / (1 - q))"
   ]
  },
  {
   "cell_type": "code",
   "execution_count": 900,
   "metadata": {},
   "outputs": [],
   "source": [
    "# For fold\n",
    "#fold_num = 1\n",
    "#in_fold_num = 1\n",
    "\n",
    "# For model\n",
    "#learning_rate = 0.01\n",
    "#sparsity_target = 0.2\n",
    "#sparsity_weight = 0.3\n",
    "#dropout_rate = 0.3\n",
    "#ex_num = 100\n",
    "\n",
    "# For training\n",
    "n_epochs = 200\n",
    "batch_size = 16\n",
    "#loss_test_min = 1000"
   ]
  },
  {
   "cell_type": "code",
   "execution_count": 901,
   "metadata": {},
   "outputs": [],
   "source": [
    "def build_data(fold_num, in_fold_num, hparam): \n",
    "    # Train data\n",
    "    bed_X_train = pd.read_csv(f\"{get_bed_path('keep_bed_yi_ex', 'train', fold_num, in_fold_num=in_fold_num, y=y_value, ex=hparam['en'])}.raw\",\n",
    "        delim_whitespace=True)\n",
    "    bed_X_train = bed_X_train.iloc[:, [1] + list(range(6, len(bed_X_train.columns)))]\n",
    "    bed_y_train = pd.read_csv(get_bed_path('label', 'train', fold_num, in_fold_num=in_fold_num), delim_whitespace=True)[['IID', y_value]]\n",
    "    bed_data_train = bed_X_train.merge(bed_y_train, on='IID')\n",
    "\n",
    "    # Test data\n",
    "    bed_X_test = pd.read_csv(f\"{get_bed_path('keep_bed_yi_ex', 'test', fold_num, in_fold_num=in_fold_num, y=y_value, ex=hparam['en'])}.raw\",\n",
    "        delim_whitespace=True)\n",
    "    bed_X_test = bed_X_test.iloc[:, [1] + list(range(6, len(bed_X_test.columns)))]\n",
    "    bed_y_test = pd.read_csv(get_bed_path('label', 'test', fold_num, in_fold_num=in_fold_num), delim_whitespace=True)[['IID', y_value]]\n",
    "    bed_data_test = bed_X_test.merge(bed_y_test, on='IID')\n",
    "\n",
    "    # Data set\n",
    "    X_train = bed_data_train.drop(['IID', y_value], axis=1).to_numpy().astype(np.float32)\n",
    "    y_train = bed_data_train[y_value].to_numpy().astype(np.int32)\n",
    "    X_test = bed_data_test.drop(['IID', y_value], axis=1).to_numpy().astype(np.float32)\n",
    "    y_test = bed_data_test[y_value].to_numpy().astype(np.int32)\n",
    "    \n",
    "    return X_train, y_train, X_test, y_test\n",
    "\n",
    "def process_network(X_train, y_train, X_test, y_test, fold_num, in_fold_num, hparam):\n",
    "    result_list = []\n",
    "    \n",
    "    ##### Init #####\n",
    "    reset_graph(random_seed)\n",
    "    training = tf.placeholder_with_default(False, shape=(), name='training')\n",
    "    n_inputs = X_train.shape[1]\n",
    "    n_hidden = 10\n",
    "    n_outputs = n_inputs\n",
    "\n",
    "    ##### Build Model #####\n",
    "    # input\n",
    "    X_input = tf.placeholder(tf.float32, shape=[None, n_inputs])\n",
    "\n",
    "    # layers\n",
    "    X_drop = tf.layers.dropout(X_input, hparam['dr'], training=training)  # Input dropout\n",
    "    hidden2 = tf.layers.dense(X_drop, n_hidden, activation=tf.nn.sigmoid)\n",
    "    hidden1 = tf.layers.dense(hidden2, n_hidden, activation=tf.nn.sigmoid)\n",
    "    hidden0 = tf.layers.dense(hidden1, 1, activation=tf.nn.sigmoid)\n",
    "    hidden1r = tf.layers.dense(hidden0, n_hidden, activation=tf.nn.sigmoid)\n",
    "    hidden2r = tf.layers.dense(hidden1r, n_hidden, activation=tf.nn.sigmoid)\n",
    "    logits = tf.layers.dense(hidden2r, n_outputs)\n",
    "\n",
    "    # output\n",
    "    logits = tf.layers.dense(hidden2r, n_outputs)\n",
    "\n",
    "    ##### Construct Loss #####\n",
    "    # sparsity loss\n",
    "    hidden_mean = tf.reduce_mean([hidden2, hidden1, hidden1r, hidden2r], axis=0)\n",
    "    sparsity_loss = tf.reduce_sum(kl_divergence(sparsity_target, hidden_mean))\n",
    "\n",
    "    # mean info  # Use mae as r_loss\n",
    "    mae = tf.reduce_mean(tf.abs(logits - X_input))\n",
    "#    mse = tf.reduce_mean(tf.square(logits-X_input))\n",
    "#    c_entropy = tf.reduce_mean(tf.nn.sigmoid_cross_entropy_with_logits(labels=X_input, logits=logits))  # cross  entropy \n",
    "\n",
    "    # Setting\n",
    "    r_loss = mae\n",
    "\n",
    "    # Reconstruction Loss\n",
    "    loss = r_loss + hparam['sw'] * sparsity_loss\n",
    "\n",
    "    # Optimizer\n",
    "    optimizer = tf.train.AdamOptimizer(hparam['lr'])\n",
    "    training_op = optimizer.minimize(loss)\n",
    "    \n",
    "    # Execute TF\n",
    "    init = tf.global_variables_initializer()\n",
    "    saver = tf.train.Saver()\n",
    "    loss_test_min = 1000\n",
    "    with tf.Session() as sess:\n",
    "        init.run()\n",
    "        for epoch in range(n_epochs+1):\n",
    "            n_batches = len(X_train) // batch_size\n",
    "            for iteration in range(n_batches):\n",
    "                #print(f'\\r{100 * iteration // n_batches}%', end='')\n",
    "                #sys.stdout.flush()\n",
    "                X_batch = next(shuffle_X_batch(X_train, batch_size))\n",
    "                sess.run(training_op, feed_dict={X_input: X_batch})\n",
    "            if epoch % 10 == 0:\n",
    "                mae_train, loss_train = sess.run([mae, loss], feed_dict={X_input: X_batch})\n",
    "                mae_test, loss_test = sess.run([mae, loss], feed_dict={X_input: X_test})\n",
    "                print(f'\\r{epoch} Train, \\tMAE: {mae_train: 4f}, \\tLoss:, {loss_train:.4f}')\n",
    "                print(f'\\r{epoch} Test, \\tMAE: {mae_test: 4f}, \\tLoss:, {loss_test:.4f}')\n",
    "                result_list.append([[epoch, fold_num, in_fold_num, hparam, mae_train, loss_train],\n",
    "                                    [epoch, fold_num, in_fold_num, hparam, mae_test, loss_test]])\n",
    "                if (loss_test_min > loss_test and epoch > 0) or epoch ==10:\n",
    "                    loss_test_min = loss_test\n",
    "                    saver.save(sess, get_bed_path('model_yi_ex', 'test', fold_num, in_fold_num=in_fold_num, y=y_value,\n",
    "                                                  ex=hparam['en'], model_key=get_model_key(hparam), epoch=epoch))\n",
    "                    print('Save model!')\n",
    "                \n",
    "    return result_list\n",
    "\n",
    "def process_model(fold_num, in_fold_num, hparam):\n",
    "    X_train, y_train, X_test, y_test = build_data(fold_num, in_fold_num, hparam)\n",
    "    result_list = process_network(X_train, y_train, X_test, y_test, fold_num, in_fold_num, hparam)\n",
    "\n",
    "    return result_list"
   ]
  },
  {
   "cell_type": "code",
   "execution_count": 919,
   "metadata": {
    "scrolled": true
   },
   "outputs": [
    {
     "name": "stdout",
     "output_type": "stream",
     "text": [
      "1 None\n",
      "WARNING: Entity <bound method Dropout.call of <tensorflow.python.layers.core.Dropout object at 0x7f41d0705e48>> could not be transformed and will be executed as-is. Please report this to the AutgoGraph team. When filing the bug, set the verbosity to 10 (on Linux, `export AUTOGRAPH_VERBOSITY=10`) and attach the full output. Cause: converting <bound method Dropout.call of <tensorflow.python.layers.core.Dropout object at 0x7f41d0705e48>>: AssertionError: Bad argument number for Name: 3, expecting 4\n",
      "WARNING: Entity <bound method Dense.call of <tensorflow.python.layers.core.Dense object at 0x7f41d10f9940>> could not be transformed and will be executed as-is. Please report this to the AutgoGraph team. When filing the bug, set the verbosity to 10 (on Linux, `export AUTOGRAPH_VERBOSITY=10`) and attach the full output. Cause: converting <bound method Dense.call of <tensorflow.python.layers.core.Dense object at 0x7f41d10f9940>>: AssertionError: Bad argument number for Name: 3, expecting 4\n",
      "WARNING: Entity <bound method Dense.call of <tensorflow.python.layers.core.Dense object at 0x7f41d2723630>> could not be transformed and will be executed as-is. Please report this to the AutgoGraph team. When filing the bug, set the verbosity to 10 (on Linux, `export AUTOGRAPH_VERBOSITY=10`) and attach the full output. Cause: converting <bound method Dense.call of <tensorflow.python.layers.core.Dense object at 0x7f41d2723630>>: AssertionError: Bad argument number for Name: 3, expecting 4\n",
      "WARNING: Entity <bound method Dense.call of <tensorflow.python.layers.core.Dense object at 0x7f41d2723630>> could not be transformed and will be executed as-is. Please report this to the AutgoGraph team. When filing the bug, set the verbosity to 10 (on Linux, `export AUTOGRAPH_VERBOSITY=10`) and attach the full output. Cause: converting <bound method Dense.call of <tensorflow.python.layers.core.Dense object at 0x7f41d2723630>>: AssertionError: Bad argument number for Name: 3, expecting 4\n",
      "WARNING: Entity <bound method Dense.call of <tensorflow.python.layers.core.Dense object at 0x7f41d2723630>> could not be transformed and will be executed as-is. Please report this to the AutgoGraph team. When filing the bug, set the verbosity to 10 (on Linux, `export AUTOGRAPH_VERBOSITY=10`) and attach the full output. Cause: converting <bound method Dense.call of <tensorflow.python.layers.core.Dense object at 0x7f41d2723630>>: AssertionError: Bad argument number for Name: 3, expecting 4\n",
      "WARNING: Entity <bound method Dense.call of <tensorflow.python.layers.core.Dense object at 0x7f41d2723630>> could not be transformed and will be executed as-is. Please report this to the AutgoGraph team. When filing the bug, set the verbosity to 10 (on Linux, `export AUTOGRAPH_VERBOSITY=10`) and attach the full output. Cause: converting <bound method Dense.call of <tensorflow.python.layers.core.Dense object at 0x7f41d2723630>>: AssertionError: Bad argument number for Name: 3, expecting 4\n",
      "WARNING: Entity <bound method Dense.call of <tensorflow.python.layers.core.Dense object at 0x7f41d2723630>> could not be transformed and will be executed as-is. Please report this to the AutgoGraph team. When filing the bug, set the verbosity to 10 (on Linux, `export AUTOGRAPH_VERBOSITY=10`) and attach the full output. Cause: converting <bound method Dense.call of <tensorflow.python.layers.core.Dense object at 0x7f41d2723630>>: AssertionError: Bad argument number for Name: 3, expecting 4\n",
      "WARNING: Entity <bound method Dense.call of <tensorflow.python.layers.core.Dense object at 0x7f41d2723630>> could not be transformed and will be executed as-is. Please report this to the AutgoGraph team. When filing the bug, set the verbosity to 10 (on Linux, `export AUTOGRAPH_VERBOSITY=10`) and attach the full output. Cause: converting <bound method Dense.call of <tensorflow.python.layers.core.Dense object at 0x7f41d2723630>>: AssertionError: Bad argument number for Name: 3, expecting 4\n",
      "0 Train, \tMAE:  0.184485, \tLoss:, 0.1924\n",
      "0 Test, \tMAE:  0.176694, \tLoss:, 1.3012\n",
      "10 Train, \tMAE:  0.078711, \tLoss:, 0.0852\n",
      "10 Test, \tMAE:  0.071626, \tLoss:, 0.4377\n",
      "Save model!\n",
      "20 Train, \tMAE:  0.054496, \tLoss:, 0.0550\n",
      "20 Test, \tMAE:  0.052332, \tLoss:, 0.0901\n",
      "Save model!\n",
      "30 Train, \tMAE:  0.046643, \tLoss:, 0.0469\n",
      "30 Test, \tMAE:  0.053139, \tLoss:, 0.0745\n",
      "Save model!\n",
      "40 Train, \tMAE:  0.073629, \tLoss:, 0.0739\n",
      "40 Test, \tMAE:  0.059369, \tLoss:, 0.0759\n",
      "50 Train, \tMAE:  0.037534, \tLoss:, 0.0452\n",
      "50 Test, \tMAE:  0.050795, \tLoss:, 0.1180\n",
      "60 Train, \tMAE:  0.055379, \tLoss:, 0.0555\n",
      "60 Test, \tMAE:  0.057886, \tLoss:, 0.0693\n",
      "Save model!\n",
      "70 Train, \tMAE:  0.065549, \tLoss:, 0.0656\n",
      "70 Test, \tMAE:  0.052456, \tLoss:, 0.1622\n",
      "80 Train, \tMAE:  0.040589, \tLoss:, 0.0406\n",
      "80 Test, \tMAE:  0.057449, \tLoss:, 0.0676\n",
      "Save model!\n",
      "90 Train, \tMAE:  0.040045, \tLoss:, 0.0407\n",
      "90 Test, \tMAE:  0.054893, \tLoss:, 0.0826\n",
      "100 Train, \tMAE:  0.056195, \tLoss:, 0.0563\n",
      "100 Test, \tMAE:  0.051157, \tLoss:, 0.0863\n",
      "110 Train, \tMAE:  0.033355, \tLoss:, 0.0334\n",
      "110 Test, \tMAE:  0.054462, \tLoss:, 0.0696\n",
      "120 Train, \tMAE:  0.039530, \tLoss:, 0.0397\n",
      "120 Test, \tMAE:  0.051035, \tLoss:, 0.0618\n",
      "Save model!\n",
      "130 Train, \tMAE:  0.051545, \tLoss:, 0.0516\n",
      "130 Test, \tMAE:  0.052005, \tLoss:, 0.0620\n",
      "140 Train, \tMAE:  0.040079, \tLoss:, 0.0401\n",
      "140 Test, \tMAE:  0.055729, \tLoss:, 0.0649\n",
      "150 Train, \tMAE:  0.062103, \tLoss:, 0.0622\n",
      "150 Test, \tMAE:  0.059755, \tLoss:, 0.0703\n",
      "160 Train, \tMAE:  0.055896, \tLoss:, 0.0560\n",
      "160 Test, \tMAE:  0.057445, \tLoss:, 0.0714\n",
      "170 Train, \tMAE:  0.039961, \tLoss:, 0.0400\n",
      "170 Test, \tMAE:  0.052744, \tLoss:, 0.0678\n",
      "180 Train, \tMAE:  0.056648, \tLoss:, 0.0567\n",
      "180 Test, \tMAE:  0.060064, \tLoss:, 0.0672\n",
      "190 Train, \tMAE:  0.035183, \tLoss:, 0.0354\n",
      "190 Test, \tMAE:  0.051093, \tLoss:, 0.0564\n",
      "Save model!\n",
      "200 Train, \tMAE:  0.046429, \tLoss:, 0.0465\n",
      "200 Test, \tMAE:  0.054743, \tLoss:, 0.0694\n",
      "2 None\n",
      "WARNING: Entity <bound method Dropout.call of <tensorflow.python.layers.core.Dropout object at 0x7f4201ff3ef0>> could not be transformed and will be executed as-is. Please report this to the AutgoGraph team. When filing the bug, set the verbosity to 10 (on Linux, `export AUTOGRAPH_VERBOSITY=10`) and attach the full output. Cause: converting <bound method Dropout.call of <tensorflow.python.layers.core.Dropout object at 0x7f4201ff3ef0>>: AssertionError: Bad argument number for Name: 3, expecting 4\n",
      "WARNING: Entity <bound method Dense.call of <tensorflow.python.layers.core.Dense object at 0x7f41d05ffe80>> could not be transformed and will be executed as-is. Please report this to the AutgoGraph team. When filing the bug, set the verbosity to 10 (on Linux, `export AUTOGRAPH_VERBOSITY=10`) and attach the full output. Cause: converting <bound method Dense.call of <tensorflow.python.layers.core.Dense object at 0x7f41d05ffe80>>: AssertionError: Bad argument number for Name: 3, expecting 4\n",
      "WARNING: Entity <bound method Dense.call of <tensorflow.python.layers.core.Dense object at 0x7f41d05ffe80>> could not be transformed and will be executed as-is. Please report this to the AutgoGraph team. When filing the bug, set the verbosity to 10 (on Linux, `export AUTOGRAPH_VERBOSITY=10`) and attach the full output. Cause: converting <bound method Dense.call of <tensorflow.python.layers.core.Dense object at 0x7f41d05ffe80>>: AssertionError: Bad argument number for Name: 3, expecting 4\n",
      "WARNING: Entity <bound method Dense.call of <tensorflow.python.layers.core.Dense object at 0x7f41d05ffe80>> could not be transformed and will be executed as-is. Please report this to the AutgoGraph team. When filing the bug, set the verbosity to 10 (on Linux, `export AUTOGRAPH_VERBOSITY=10`) and attach the full output. Cause: converting <bound method Dense.call of <tensorflow.python.layers.core.Dense object at 0x7f41d05ffe80>>: AssertionError: Bad argument number for Name: 3, expecting 4\n",
      "WARNING: Entity <bound method Dense.call of <tensorflow.python.layers.core.Dense object at 0x7f41d05ffe80>> could not be transformed and will be executed as-is. Please report this to the AutgoGraph team. When filing the bug, set the verbosity to 10 (on Linux, `export AUTOGRAPH_VERBOSITY=10`) and attach the full output. Cause: converting <bound method Dense.call of <tensorflow.python.layers.core.Dense object at 0x7f41d05ffe80>>: AssertionError: Bad argument number for Name: 3, expecting 4\n"
     ]
    },
    {
     "name": "stdout",
     "output_type": "stream",
     "text": [
      "WARNING: Entity <bound method Dense.call of <tensorflow.python.layers.core.Dense object at 0x7f41d05ffe80>> could not be transformed and will be executed as-is. Please report this to the AutgoGraph team. When filing the bug, set the verbosity to 10 (on Linux, `export AUTOGRAPH_VERBOSITY=10`) and attach the full output. Cause: converting <bound method Dense.call of <tensorflow.python.layers.core.Dense object at 0x7f41d05ffe80>>: AssertionError: Bad argument number for Name: 3, expecting 4\n",
      "WARNING: Entity <bound method Dense.call of <tensorflow.python.layers.core.Dense object at 0x7f41d05ffe80>> could not be transformed and will be executed as-is. Please report this to the AutgoGraph team. When filing the bug, set the verbosity to 10 (on Linux, `export AUTOGRAPH_VERBOSITY=10`) and attach the full output. Cause: converting <bound method Dense.call of <tensorflow.python.layers.core.Dense object at 0x7f41d05ffe80>>: AssertionError: Bad argument number for Name: 3, expecting 4\n",
      "WARNING: Entity <bound method Dense.call of <tensorflow.python.layers.core.Dense object at 0x7f41d05ffe80>> could not be transformed and will be executed as-is. Please report this to the AutgoGraph team. When filing the bug, set the verbosity to 10 (on Linux, `export AUTOGRAPH_VERBOSITY=10`) and attach the full output. Cause: converting <bound method Dense.call of <tensorflow.python.layers.core.Dense object at 0x7f41d05ffe80>>: AssertionError: Bad argument number for Name: 3, expecting 4\n",
      "0 Train, \tMAE:  0.181166, \tLoss:, 0.1815\n",
      "0 Test, \tMAE:  0.193036, \tLoss:, 0.3642\n",
      "10 Train, \tMAE:  0.226131, \tLoss:, 0.2262\n",
      "10 Test, \tMAE:  0.192799, \tLoss:, 0.2304\n",
      "Save model!\n",
      "20 Train, \tMAE:  0.181198, \tLoss:, 0.1812\n",
      "20 Test, \tMAE:  0.192091, \tLoss:, 0.2029\n",
      "Save model!\n",
      "30 Train, \tMAE:  0.202075, \tLoss:, 0.2021\n",
      "30 Test, \tMAE:  0.191990, \tLoss:, 0.1969\n",
      "Save model!\n",
      "40 Train, \tMAE:  0.196586, \tLoss:, 0.1966\n",
      "40 Test, \tMAE:  0.191679, \tLoss:, 0.1959\n",
      "Save model!\n",
      "50 Train, \tMAE:  0.228207, \tLoss:, 0.2282\n",
      "50 Test, \tMAE:  0.191682, \tLoss:, 0.1929\n",
      "Save model!\n",
      "60 Train, \tMAE:  0.216934, \tLoss:, 0.2170\n",
      "60 Test, \tMAE:  0.191547, \tLoss:, 0.1927\n",
      "Save model!\n",
      "70 Train, \tMAE:  0.211040, \tLoss:, 0.2110\n",
      "70 Test, \tMAE:  0.191451, \tLoss:, 0.1922\n",
      "Save model!\n",
      "80 Train, \tMAE:  0.097279, \tLoss:, 0.0983\n",
      "80 Test, \tMAE:  0.091414, \tLoss:, 0.1304\n",
      "Save model!\n",
      "90 Train, \tMAE:  0.077681, \tLoss:, 0.0778\n",
      "90 Test, \tMAE:  0.079199, \tLoss:, 0.0864\n",
      "Save model!\n",
      "100 Train, \tMAE:  0.066072, \tLoss:, 0.0662\n",
      "100 Test, \tMAE:  0.078801, \tLoss:, 0.0873\n",
      "110 Train, \tMAE:  0.094223, \tLoss:, 0.0943\n",
      "110 Test, \tMAE:  0.079232, \tLoss:, 0.0843\n",
      "Save model!\n",
      "120 Train, \tMAE:  0.068306, \tLoss:, 0.0686\n",
      "120 Test, \tMAE:  0.081497, \tLoss:, 0.0935\n",
      "130 Train, \tMAE:  0.089927, \tLoss:, 0.0900\n",
      "130 Test, \tMAE:  0.080817, \tLoss:, 0.0866\n",
      "140 Train, \tMAE:  0.095697, \tLoss:, 0.0957\n",
      "140 Test, \tMAE:  0.079651, \tLoss:, 0.0835\n",
      "Save model!\n",
      "150 Train, \tMAE:  0.057405, \tLoss:, 0.0575\n",
      "150 Test, \tMAE:  0.079967, \tLoss:, 0.0867\n",
      "160 Train, \tMAE:  0.101978, \tLoss:, 0.1030\n",
      "160 Test, \tMAE:  0.080324, \tLoss:, 0.0976\n",
      "170 Train, \tMAE:  0.090109, \tLoss:, 0.0904\n",
      "170 Test, \tMAE:  0.084255, \tLoss:, 0.1039\n",
      "180 Train, \tMAE:  0.071199, \tLoss:, 0.0713\n",
      "180 Test, \tMAE:  0.080604, \tLoss:, 0.0881\n",
      "190 Train, \tMAE:  0.076806, \tLoss:, 0.0774\n",
      "190 Test, \tMAE:  0.078869, \tLoss:, 0.0920\n",
      "200 Train, \tMAE:  0.061921, \tLoss:, 0.0621\n",
      "200 Test, \tMAE:  0.081808, \tLoss:, 0.0918\n",
      "3 None\n",
      "WARNING: Entity <bound method Dropout.call of <tensorflow.python.layers.core.Dropout object at 0x7f41d1c3f588>> could not be transformed and will be executed as-is. Please report this to the AutgoGraph team. When filing the bug, set the verbosity to 10 (on Linux, `export AUTOGRAPH_VERBOSITY=10`) and attach the full output. Cause: converting <bound method Dropout.call of <tensorflow.python.layers.core.Dropout object at 0x7f41d1c3f588>>: AssertionError: Bad argument number for Name: 3, expecting 4\n",
      "WARNING: Entity <bound method Dense.call of <tensorflow.python.layers.core.Dense object at 0x7f41d1c3f588>> could not be transformed and will be executed as-is. Please report this to the AutgoGraph team. When filing the bug, set the verbosity to 10 (on Linux, `export AUTOGRAPH_VERBOSITY=10`) and attach the full output. Cause: converting <bound method Dense.call of <tensorflow.python.layers.core.Dense object at 0x7f41d1c3f588>>: AssertionError: Bad argument number for Name: 3, expecting 4\n",
      "WARNING: Entity <bound method Dense.call of <tensorflow.python.layers.core.Dense object at 0x7f42dbac9390>> could not be transformed and will be executed as-is. Please report this to the AutgoGraph team. When filing the bug, set the verbosity to 10 (on Linux, `export AUTOGRAPH_VERBOSITY=10`) and attach the full output. Cause: converting <bound method Dense.call of <tensorflow.python.layers.core.Dense object at 0x7f42dbac9390>>: AssertionError: Bad argument number for Name: 3, expecting 4\n",
      "WARNING: Entity <bound method Dense.call of <tensorflow.python.layers.core.Dense object at 0x7f42dbac9390>> could not be transformed and will be executed as-is. Please report this to the AutgoGraph team. When filing the bug, set the verbosity to 10 (on Linux, `export AUTOGRAPH_VERBOSITY=10`) and attach the full output. Cause: converting <bound method Dense.call of <tensorflow.python.layers.core.Dense object at 0x7f42dbac9390>>: AssertionError: Bad argument number for Name: 3, expecting 4\n",
      "WARNING: Entity <bound method Dense.call of <tensorflow.python.layers.core.Dense object at 0x7f42dbac9390>> could not be transformed and will be executed as-is. Please report this to the AutgoGraph team. When filing the bug, set the verbosity to 10 (on Linux, `export AUTOGRAPH_VERBOSITY=10`) and attach the full output. Cause: converting <bound method Dense.call of <tensorflow.python.layers.core.Dense object at 0x7f42dbac9390>>: AssertionError: Bad argument number for Name: 3, expecting 4\n",
      "WARNING: Entity <bound method Dense.call of <tensorflow.python.layers.core.Dense object at 0x7f42dbac9390>> could not be transformed and will be executed as-is. Please report this to the AutgoGraph team. When filing the bug, set the verbosity to 10 (on Linux, `export AUTOGRAPH_VERBOSITY=10`) and attach the full output. Cause: converting <bound method Dense.call of <tensorflow.python.layers.core.Dense object at 0x7f42dbac9390>>: AssertionError: Bad argument number for Name: 3, expecting 4\n",
      "WARNING: Entity <bound method Dense.call of <tensorflow.python.layers.core.Dense object at 0x7f42dbac9390>> could not be transformed and will be executed as-is. Please report this to the AutgoGraph team. When filing the bug, set the verbosity to 10 (on Linux, `export AUTOGRAPH_VERBOSITY=10`) and attach the full output. Cause: converting <bound method Dense.call of <tensorflow.python.layers.core.Dense object at 0x7f42dbac9390>>: AssertionError: Bad argument number for Name: 3, expecting 4\n",
      "WARNING: Entity <bound method Dense.call of <tensorflow.python.layers.core.Dense object at 0x7f42dbac9390>> could not be transformed and will be executed as-is. Please report this to the AutgoGraph team. When filing the bug, set the verbosity to 10 (on Linux, `export AUTOGRAPH_VERBOSITY=10`) and attach the full output. Cause: converting <bound method Dense.call of <tensorflow.python.layers.core.Dense object at 0x7f42dbac9390>>: AssertionError: Bad argument number for Name: 3, expecting 4\n",
      "0 Train, \tMAE:  0.405541, \tLoss:, 0.4719\n",
      "0 Test, \tMAE:  0.466919, \tLoss:, 0.6296\n",
      "10 Train, \tMAE:  0.414878, \tLoss:, 0.4149\n",
      "10 Test, \tMAE:  0.465695, \tLoss:, 0.4768\n",
      "Save model!\n",
      "20 Train, \tMAE:  0.485708, \tLoss:, 0.4857\n",
      "20 Test, \tMAE:  0.466931, \tLoss:, 0.4803\n",
      "30 Train, \tMAE:  0.200766, \tLoss:, 0.2052\n",
      "30 Test, \tMAE:  0.227191, \tLoss:, 0.4387\n",
      "Save model!\n",
      "40 Train, \tMAE:  0.083908, \tLoss:, 0.0873\n",
      "40 Test, \tMAE:  0.125093, \tLoss:, 0.2897\n",
      "Save model!\n",
      "50 Train, \tMAE:  0.183214, \tLoss:, 0.1850\n",
      "50 Test, \tMAE:  0.150095, \tLoss:, 0.2434\n",
      "Save model!\n",
      "60 Train, \tMAE:  0.143669, \tLoss:, 0.1456\n",
      "60 Test, \tMAE:  0.103774, \tLoss:, 0.1909\n",
      "Save model!\n",
      "70 Train, \tMAE:  0.077843, \tLoss:, 0.0801\n",
      "70 Test, \tMAE:  0.116023, \tLoss:, 0.2305\n",
      "80 Train, \tMAE:  0.087885, \tLoss:, 0.0888\n",
      "80 Test, \tMAE:  0.119240, \tLoss:, 0.1789\n",
      "Save model!\n",
      "90 Train, \tMAE:  0.187905, \tLoss:, 0.1896\n",
      "90 Test, \tMAE:  0.184270, \tLoss:, 0.2203\n"
     ]
    },
    {
     "name": "stdout",
     "output_type": "stream",
     "text": [
      "100 Train, \tMAE:  0.095291, \tLoss:, 0.0961\n",
      "100 Test, \tMAE:  0.121838, \tLoss:, 0.2524\n",
      "110 Train, \tMAE:  0.085871, \tLoss:, 0.0876\n",
      "110 Test, \tMAE:  0.106453, \tLoss:, 0.1737\n",
      "Save model!\n",
      "120 Train, \tMAE:  0.170295, \tLoss:, 0.1708\n",
      "120 Test, \tMAE:  0.106180, \tLoss:, 0.1324\n",
      "Save model!\n",
      "130 Train, \tMAE:  0.181564, \tLoss:, 0.1912\n",
      "130 Test, \tMAE:  0.175274, \tLoss:, 0.7508\n",
      "140 Train, \tMAE:  0.093591, \tLoss:, 0.0940\n",
      "140 Test, \tMAE:  0.109403, \tLoss:, 0.1342\n",
      "150 Train, \tMAE:  0.111136, \tLoss:, 0.1116\n",
      "150 Test, \tMAE:  0.119286, \tLoss:, 0.1412\n",
      "160 Train, \tMAE:  0.128733, \tLoss:, 0.1298\n",
      "160 Test, \tMAE:  0.100894, \tLoss:, 0.1661\n",
      "170 Train, \tMAE:  0.153215, \tLoss:, 0.1541\n",
      "170 Test, \tMAE:  0.168961, \tLoss:, 0.2022\n",
      "180 Train, \tMAE:  0.120054, \tLoss:, 0.1204\n",
      "180 Test, \tMAE:  0.115122, \tLoss:, 0.1372\n",
      "190 Train, \tMAE:  0.082415, \tLoss:, 0.0828\n",
      "190 Test, \tMAE:  0.118030, \tLoss:, 0.1461\n",
      "200 Train, \tMAE:  0.158323, \tLoss:, 0.1593\n",
      "200 Test, \tMAE:  0.176316, \tLoss:, 0.2346\n",
      "4 None\n",
      "WARNING: Entity <bound method Dropout.call of <tensorflow.python.layers.core.Dropout object at 0x7f41d170f748>> could not be transformed and will be executed as-is. Please report this to the AutgoGraph team. When filing the bug, set the verbosity to 10 (on Linux, `export AUTOGRAPH_VERBOSITY=10`) and attach the full output. Cause: converting <bound method Dropout.call of <tensorflow.python.layers.core.Dropout object at 0x7f41d170f748>>: AssertionError: Bad argument number for Name: 3, expecting 4\n",
      "WARNING: Entity <bound method Dense.call of <tensorflow.python.layers.core.Dense object at 0x7f41d170f748>> could not be transformed and will be executed as-is. Please report this to the AutgoGraph team. When filing the bug, set the verbosity to 10 (on Linux, `export AUTOGRAPH_VERBOSITY=10`) and attach the full output. Cause: converting <bound method Dense.call of <tensorflow.python.layers.core.Dense object at 0x7f41d170f748>>: AssertionError: Bad argument number for Name: 3, expecting 4\n",
      "WARNING: Entity <bound method Dense.call of <tensorflow.python.layers.core.Dense object at 0x7f41d170f748>> could not be transformed and will be executed as-is. Please report this to the AutgoGraph team. When filing the bug, set the verbosity to 10 (on Linux, `export AUTOGRAPH_VERBOSITY=10`) and attach the full output. Cause: converting <bound method Dense.call of <tensorflow.python.layers.core.Dense object at 0x7f41d170f748>>: AssertionError: Bad argument number for Name: 3, expecting 4\n",
      "WARNING: Entity <bound method Dense.call of <tensorflow.python.layers.core.Dense object at 0x7f41d20547b8>> could not be transformed and will be executed as-is. Please report this to the AutgoGraph team. When filing the bug, set the verbosity to 10 (on Linux, `export AUTOGRAPH_VERBOSITY=10`) and attach the full output. Cause: converting <bound method Dense.call of <tensorflow.python.layers.core.Dense object at 0x7f41d20547b8>>: AssertionError: Bad argument number for Name: 3, expecting 4\n",
      "WARNING: Entity <bound method Dense.call of <tensorflow.python.layers.core.Dense object at 0x7f41d20547b8>> could not be transformed and will be executed as-is. Please report this to the AutgoGraph team. When filing the bug, set the verbosity to 10 (on Linux, `export AUTOGRAPH_VERBOSITY=10`) and attach the full output. Cause: converting <bound method Dense.call of <tensorflow.python.layers.core.Dense object at 0x7f41d20547b8>>: AssertionError: Bad argument number for Name: 3, expecting 4\n",
      "WARNING: Entity <bound method Dense.call of <tensorflow.python.layers.core.Dense object at 0x7f41d20547b8>> could not be transformed and will be executed as-is. Please report this to the AutgoGraph team. When filing the bug, set the verbosity to 10 (on Linux, `export AUTOGRAPH_VERBOSITY=10`) and attach the full output. Cause: converting <bound method Dense.call of <tensorflow.python.layers.core.Dense object at 0x7f41d20547b8>>: AssertionError: Bad argument number for Name: 3, expecting 4\n",
      "WARNING: Entity <bound method Dense.call of <tensorflow.python.layers.core.Dense object at 0x7f41d20547b8>> could not be transformed and will be executed as-is. Please report this to the AutgoGraph team. When filing the bug, set the verbosity to 10 (on Linux, `export AUTOGRAPH_VERBOSITY=10`) and attach the full output. Cause: converting <bound method Dense.call of <tensorflow.python.layers.core.Dense object at 0x7f41d20547b8>>: AssertionError: Bad argument number for Name: 3, expecting 4\n",
      "WARNING: Entity <bound method Dense.call of <tensorflow.python.layers.core.Dense object at 0x7f41d20547b8>> could not be transformed and will be executed as-is. Please report this to the AutgoGraph team. When filing the bug, set the verbosity to 10 (on Linux, `export AUTOGRAPH_VERBOSITY=10`) and attach the full output. Cause: converting <bound method Dense.call of <tensorflow.python.layers.core.Dense object at 0x7f41d20547b8>>: AssertionError: Bad argument number for Name: 3, expecting 4\n",
      "0 Train, \tMAE:  0.085525, \tLoss:, 0.0963\n",
      "0 Test, \tMAE:  0.092851, \tLoss:, 0.7892\n",
      "10 Train, \tMAE:  0.095209, \tLoss:, 0.0957\n",
      "10 Test, \tMAE:  0.092547, \tLoss:, 0.1592\n",
      "Save model!\n",
      "20 Train, \tMAE:  0.050818, \tLoss:, 0.0512\n",
      "20 Test, \tMAE:  0.055576, \tLoss:, 0.0913\n",
      "Save model!\n",
      "30 Train, \tMAE:  0.054147, \tLoss:, 0.0543\n",
      "30 Test, \tMAE:  0.055432, \tLoss:, 0.0721\n",
      "Save model!\n",
      "40 Train, \tMAE:  0.045742, \tLoss:, 0.0460\n",
      "40 Test, \tMAE:  0.054916, \tLoss:, 0.0713\n",
      "Save model!\n",
      "50 Train, \tMAE:  0.040166, \tLoss:, 0.0403\n",
      "50 Test, \tMAE:  0.055650, \tLoss:, 0.0676\n",
      "Save model!\n",
      "60 Train, \tMAE:  0.050456, \tLoss:, 0.0505\n",
      "60 Test, \tMAE:  0.055138, \tLoss:, 0.0628\n",
      "Save model!\n",
      "70 Train, \tMAE:  0.040393, \tLoss:, 0.0404\n",
      "70 Test, \tMAE:  0.054964, \tLoss:, 0.0595\n",
      "Save model!\n",
      "80 Train, \tMAE:  0.055328, \tLoss:, 0.0554\n",
      "80 Test, \tMAE:  0.054658, \tLoss:, 0.0583\n",
      "Save model!\n",
      "90 Train, \tMAE:  0.042490, \tLoss:, 0.0425\n",
      "90 Test, \tMAE:  0.055541, \tLoss:, 0.0609\n",
      "100 Train, \tMAE:  0.046034, \tLoss:, 0.0462\n",
      "100 Test, \tMAE:  0.055232, \tLoss:, 0.0607\n",
      "110 Train, \tMAE:  0.038824, \tLoss:, 0.0389\n",
      "110 Test, \tMAE:  0.055158, \tLoss:, 0.0588\n",
      "120 Train, \tMAE:  0.047045, \tLoss:, 0.0471\n",
      "120 Test, \tMAE:  0.055462, \tLoss:, 0.0597\n",
      "130 Train, \tMAE:  0.043156, \tLoss:, 0.0432\n",
      "130 Test, \tMAE:  0.054364, \tLoss:, 0.0627\n",
      "140 Train, \tMAE:  0.038429, \tLoss:, 0.0385\n",
      "140 Test, \tMAE:  0.055401, \tLoss:, 0.0605\n",
      "150 Train, \tMAE:  0.044166, \tLoss:, 0.0442\n",
      "150 Test, \tMAE:  0.057031, \tLoss:, 0.0633\n",
      "160 Train, \tMAE:  0.038042, \tLoss:, 0.0381\n",
      "160 Test, \tMAE:  0.054806, \tLoss:, 0.0597\n",
      "170 Train, \tMAE:  0.043520, \tLoss:, 0.0436\n",
      "170 Test, \tMAE:  0.055170, \tLoss:, 0.0596\n",
      "180 Train, \tMAE:  0.041191, \tLoss:, 0.0413\n",
      "180 Test, \tMAE:  0.055195, \tLoss:, 0.0603\n",
      "190 Train, \tMAE:  0.036287, \tLoss:, 0.0363\n",
      "190 Test, \tMAE:  0.054837, \tLoss:, 0.0593\n",
      "200 Train, \tMAE:  0.051312, \tLoss:, 0.0524\n",
      "200 Test, \tMAE:  0.056259, \tLoss:, 0.0670\n",
      "5 None\n",
      "WARNING: Entity <bound method Dropout.call of <tensorflow.python.layers.core.Dropout object at 0x7f42025707b8>> could not be transformed and will be executed as-is. Please report this to the AutgoGraph team. When filing the bug, set the verbosity to 10 (on Linux, `export AUTOGRAPH_VERBOSITY=10`) and attach the full output. Cause: converting <bound method Dropout.call of <tensorflow.python.layers.core.Dropout object at 0x7f42025707b8>>: AssertionError: Bad argument number for Name: 3, expecting 4\n",
      "WARNING: Entity <bound method Dense.call of <tensorflow.python.layers.core.Dense object at 0x7f42025707b8>> could not be transformed and will be executed as-is. Please report this to the AutgoGraph team. When filing the bug, set the verbosity to 10 (on Linux, `export AUTOGRAPH_VERBOSITY=10`) and attach the full output. Cause: converting <bound method Dense.call of <tensorflow.python.layers.core.Dense object at 0x7f42025707b8>>: AssertionError: Bad argument number for Name: 3, expecting 4\n",
      "WARNING: Entity <bound method Dense.call of <tensorflow.python.layers.core.Dense object at 0x7f4400dff278>> could not be transformed and will be executed as-is. Please report this to the AutgoGraph team. When filing the bug, set the verbosity to 10 (on Linux, `export AUTOGRAPH_VERBOSITY=10`) and attach the full output. Cause: converting <bound method Dense.call of <tensorflow.python.layers.core.Dense object at 0x7f4400dff278>>: AssertionError: Bad argument number for Name: 3, expecting 4\n"
     ]
    },
    {
     "name": "stdout",
     "output_type": "stream",
     "text": [
      "WARNING: Entity <bound method Dense.call of <tensorflow.python.layers.core.Dense object at 0x7f4400dff278>> could not be transformed and will be executed as-is. Please report this to the AutgoGraph team. When filing the bug, set the verbosity to 10 (on Linux, `export AUTOGRAPH_VERBOSITY=10`) and attach the full output. Cause: converting <bound method Dense.call of <tensorflow.python.layers.core.Dense object at 0x7f4400dff278>>: AssertionError: Bad argument number for Name: 3, expecting 4\n",
      "WARNING: Entity <bound method Dense.call of <tensorflow.python.layers.core.Dense object at 0x7f4400dff278>> could not be transformed and will be executed as-is. Please report this to the AutgoGraph team. When filing the bug, set the verbosity to 10 (on Linux, `export AUTOGRAPH_VERBOSITY=10`) and attach the full output. Cause: converting <bound method Dense.call of <tensorflow.python.layers.core.Dense object at 0x7f4400dff278>>: AssertionError: Bad argument number for Name: 3, expecting 4\n",
      "WARNING: Entity <bound method Dense.call of <tensorflow.python.layers.core.Dense object at 0x7f4400dff278>> could not be transformed and will be executed as-is. Please report this to the AutgoGraph team. When filing the bug, set the verbosity to 10 (on Linux, `export AUTOGRAPH_VERBOSITY=10`) and attach the full output. Cause: converting <bound method Dense.call of <tensorflow.python.layers.core.Dense object at 0x7f4400dff278>>: AssertionError: Bad argument number for Name: 3, expecting 4\n",
      "WARNING: Entity <bound method Dense.call of <tensorflow.python.layers.core.Dense object at 0x7f4400dff278>> could not be transformed and will be executed as-is. Please report this to the AutgoGraph team. When filing the bug, set the verbosity to 10 (on Linux, `export AUTOGRAPH_VERBOSITY=10`) and attach the full output. Cause: converting <bound method Dense.call of <tensorflow.python.layers.core.Dense object at 0x7f4400dff278>>: AssertionError: Bad argument number for Name: 3, expecting 4\n",
      "WARNING: Entity <bound method Dense.call of <tensorflow.python.layers.core.Dense object at 0x7f4201867320>> could not be transformed and will be executed as-is. Please report this to the AutgoGraph team. When filing the bug, set the verbosity to 10 (on Linux, `export AUTOGRAPH_VERBOSITY=10`) and attach the full output. Cause: converting <bound method Dense.call of <tensorflow.python.layers.core.Dense object at 0x7f4201867320>>: AssertionError: Bad argument number for Name: 3, expecting 4\n",
      "0 Train, \tMAE:  0.136420, \tLoss:, 0.1836\n",
      "0 Test, \tMAE:  0.209460, \tLoss:, 1.4877\n",
      "10 Train, \tMAE:  0.089673, \tLoss:, 0.1020\n",
      "10 Test, \tMAE:  0.096649, \tLoss:, 0.7903\n",
      "Save model!\n",
      "20 Train, \tMAE:  0.076661, \tLoss:, 0.0773\n",
      "20 Test, \tMAE:  0.064329, \tLoss:, 0.1174\n",
      "Save model!\n",
      "30 Train, \tMAE:  0.057235, \tLoss:, 0.0581\n",
      "30 Test, \tMAE:  0.063955, \tLoss:, 0.0822\n",
      "Save model!\n",
      "40 Train, \tMAE:  0.054289, \tLoss:, 0.0544\n",
      "40 Test, \tMAE:  0.068871, \tLoss:, 0.1145\n",
      "50 Train, \tMAE:  0.047155, \tLoss:, 0.0473\n",
      "50 Test, \tMAE:  0.061087, \tLoss:, 0.0885\n",
      "60 Train, \tMAE:  0.045754, \tLoss:, 0.0458\n",
      "60 Test, \tMAE:  0.065068, \tLoss:, 0.1092\n",
      "70 Train, \tMAE:  0.082773, \tLoss:, 0.0829\n",
      "70 Test, \tMAE:  0.063360, \tLoss:, 0.0728\n",
      "Save model!\n",
      "80 Train, \tMAE:  0.043160, \tLoss:, 0.0432\n",
      "80 Test, \tMAE:  0.061479, \tLoss:, 0.0677\n",
      "Save model!\n",
      "90 Train, \tMAE:  0.076195, \tLoss:, 0.0767\n",
      "90 Test, \tMAE:  0.061525, \tLoss:, 0.0697\n",
      "100 Train, \tMAE:  0.054637, \tLoss:, 0.0554\n",
      "100 Test, \tMAE:  0.069934, \tLoss:, 0.1123\n",
      "110 Train, \tMAE:  0.062975, \tLoss:, 0.0631\n",
      "110 Test, \tMAE:  0.060592, \tLoss:, 0.0820\n",
      "120 Train, \tMAE:  0.071691, \tLoss:, 0.0719\n",
      "120 Test, \tMAE:  0.067399, \tLoss:, 0.0792\n",
      "130 Train, \tMAE:  0.065595, \tLoss:, 0.0656\n",
      "130 Test, \tMAE:  0.067137, \tLoss:, 0.0753\n",
      "140 Train, \tMAE:  0.056562, \tLoss:, 0.0569\n",
      "140 Test, \tMAE:  0.064377, \tLoss:, 0.0737\n",
      "150 Train, \tMAE:  0.072193, \tLoss:, 0.0725\n",
      "150 Test, \tMAE:  0.072038, \tLoss:, 0.1409\n",
      "160 Train, \tMAE:  0.049125, \tLoss:, 0.0492\n",
      "160 Test, \tMAE:  0.062162, \tLoss:, 0.0763\n",
      "170 Train, \tMAE:  0.064734, \tLoss:, 0.0648\n",
      "170 Test, \tMAE:  0.066422, \tLoss:, 0.0715\n",
      "180 Train, \tMAE:  0.056860, \tLoss:, 0.0570\n",
      "180 Test, \tMAE:  0.069579, \tLoss:, 0.0802\n",
      "190 Train, \tMAE:  0.051414, \tLoss:, 0.0515\n",
      "190 Test, \tMAE:  0.060670, \tLoss:, 0.0666\n",
      "Save model!\n",
      "200 Train, \tMAE:  0.072332, \tLoss:, 0.0724\n",
      "200 Test, \tMAE:  0.064241, \tLoss:, 0.0812\n",
      "CPU times: user 19min 16s, sys: 5min 56s, total: 25min 12s\n",
      "Wall time: 9min 27s\n"
     ]
    }
   ],
   "source": [
    "%%time\n",
    "lr_list = [0.01]\n",
    "st_list = [0.5]\n",
    "sw_list = [0.5]\n",
    "dr_list = [0.5]\n",
    "#en_list = [100, 1000, 10000]\n",
    "en_list = [100]\n",
    "\n",
    "hdict = {}\n",
    "# Find Hyper parameter\n",
    "for prod_num, prod_set in enumerate(product(*[lr_list, st_list, sw_list, dr_list, en_list])):\n",
    "    hparam ={}\n",
    "    hparam['lr'], hparam['st'], hparam['sw'], hparam['dr'], hparam['en'] = prod_set\n",
    "    hcv_result = []    \n",
    "    for fold_num in range(1,6):\n",
    "#        for in_fold_num in ([None] + list(range(1,6))):\n",
    "        for in_fold_num in ([None]):\n",
    "            print(fold_num, in_fold_num)\n",
    "            hcv_result.append(process_model(fold_num, in_fold_num, hparam))\n",
    "    hdict[prod_num] = hcv_result  # prod_num -> [[[epoch train], [epoch test]]]"
   ]
  },
  {
   "cell_type": "code",
   "execution_count": 1009,
   "metadata": {},
   "outputs": [
    {
     "name": "stdout",
     "output_type": "stream",
     "text": [
      "test mae 0.06908931 0.018598737\n"
     ]
    }
   ],
   "source": [
    "print('test mae',\n",
    "      np.mean([min([epoch_i[1][4] for epoch_i in fold_i]) for fold_i in hdict[0]]), # test mae mean\n",
    "      np.std([min([epoch_i[1][4] for epoch_i in fold_i]) for fold_i in hdict[0]]))  # test mae std"
   ]
  },
  {
   "cell_type": "code",
   "execution_count": 1010,
   "metadata": {},
   "outputs": [
    {
     "name": "stdout",
     "output_type": "stream",
     "text": [
      "test loss 0.07944836 0.028133929\n"
     ]
    }
   ],
   "source": [
    "print('test loss',\n",
    "      np.mean([min([epoch_i[1][5] for epoch_i in fold_i]) for fold_i in hdict[0]]), # test loss mean\n",
    "      np.std([min([epoch_i[1][5] for epoch_i in fold_i]) for fold_i in hdict[0]]))  # test loss std"
   ]
  },
  {
   "cell_type": "code",
   "execution_count": 1087,
   "metadata": {},
   "outputs": [],
   "source": [
    "def get_epoch_min_loss(hdict, fold_num, in_fold_num): \n",
    "    min_loss = 1000\n",
    "    min_epoch = 0\n",
    "    for fold_i in hdict[0]:\n",
    "        for epoch_test in [epoch_i[1] for epoch_i in fold_i]:  # test만 선택\n",
    "            if epoch_test[1] == fold_num and epoch_test[2] == in_fold_num:\n",
    "                if epoch_test[5] < min_loss:\n",
    "                    min_loss = epoch_test[5]\n",
    "                    min_epoch = epoch_test[0]\n",
    "    return min_epoch\n",
    "\n",
    "def get_epoch_max_loss(hdict, fold_num, in_fold_num): \n",
    "    max_loss = 0\n",
    "    max_epoch = 0\n",
    "    for fold_i in hdict[0]:\n",
    "        for epoch_test in [epoch_i[1] for epoch_i in fold_i]:  # test만 선택\n",
    "            if epoch_test[1] == fold_num and epoch_test[2] == in_fold_num:\n",
    "                if epoch_test[5] > min_loss:\n",
    "                    max_loss = epoch_test[5]\n",
    "                    max_epoch = epoch_test[0]\n",
    "    return max_epoch\n",
    "\n",
    "def get_reconstructed(X_feed, logits, model_path):\n",
    "    init = tf.global_variables_initializer()\n",
    "    saver = tf.train.Saver()\n",
    "    with tf.Session() as sess:\n",
    "        if model_path:\n",
    "            saver.restore(sess, model_path)\n",
    "        logits_val = logits.eval(feed_dict={X_input: X_feed})\n",
    "        return logits_val\n",
    "    \n",
    "def get_code_0(X_feed, logits, model_path):\n",
    "    init = tf.global_variables_initializer()\n",
    "    saver = tf.train.Saver()\n",
    "    with tf.Session() as sess:\n",
    "        if model_path:\n",
    "            saver.restore(sess, model_path)\n",
    "        hidden0_val = hidden0.eval(feed_dict={X_input: X_feed})\n",
    "        return hidden0_val"
   ]
  },
  {
   "cell_type": "code",
   "execution_count": 1043,
   "metadata": {},
   "outputs": [],
   "source": [
    "X_train, y_train, X_test, y_test = build_data(fold_num, in_fold_num, hparam)"
   ]
  },
  {
   "cell_type": "code",
   "execution_count": 1132,
   "metadata": {
    "collapsed": true
   },
   "outputs": [
    {
     "ename": "ValueError",
     "evalue": "The passed save_path is not a valid checkpoint: /home2/jpark/Projects/prs/model/cv_1_test_y_100_lr0.01st0.5sw0.5dr0.5en100_20",
     "output_type": "error",
     "traceback": [
      "\u001b[0;31m---------------------------------------------------------------------------\u001b[0m",
      "\u001b[0;31mValueError\u001b[0m                                Traceback (most recent call last)",
      "\u001b[0;32m<ipython-input-1132-a10c405a9fbc>\u001b[0m in \u001b[0;36m<module>\u001b[0;34m\u001b[0m\n\u001b[1;32m      6\u001b[0m                                        get_bed_path('model_yi_ex', 'test',\n\u001b[1;32m      7\u001b[0m                                                     \u001b[0mfold_num\u001b[0m\u001b[0;34m,\u001b[0m \u001b[0min_fold_num\u001b[0m\u001b[0;34m=\u001b[0m\u001b[0min_fold_num\u001b[0m\u001b[0;34m,\u001b[0m \u001b[0my\u001b[0m\u001b[0;34m=\u001b[0m\u001b[0my_value\u001b[0m\u001b[0;34m,\u001b[0m \u001b[0mex\u001b[0m\u001b[0;34m=\u001b[0m\u001b[0mex_num\u001b[0m\u001b[0;34m,\u001b[0m\u001b[0;34m\u001b[0m\u001b[0;34m\u001b[0m\u001b[0m\n\u001b[0;32m----> 8\u001b[0;31m                                                     model_key=get_model_key(hdict[0][0][0][0][3]), epoch=20))\n\u001b[0m\u001b[1;32m      9\u001b[0m         pred_df = pd.concat([pd.DataFrame(pred_val.reshape(X_test.shape[0]*X_test.shape[1], 1), columns=['pred']),\n\u001b[1;32m     10\u001b[0m                pd.DataFrame(X_test.reshape(X_test.shape[0]*X_test.shape[1]), columns=['x_test'])], axis=1)\n",
      "\u001b[0;32m<ipython-input-1087-59d94c384fba>\u001b[0m in \u001b[0;36mget_reconstructed\u001b[0;34m(X_feed, logits, model_path)\u001b[0m\n\u001b[1;32m     26\u001b[0m     \u001b[0;32mwith\u001b[0m \u001b[0mtf\u001b[0m\u001b[0;34m.\u001b[0m\u001b[0mSession\u001b[0m\u001b[0;34m(\u001b[0m\u001b[0;34m)\u001b[0m \u001b[0;32mas\u001b[0m \u001b[0msess\u001b[0m\u001b[0;34m:\u001b[0m\u001b[0;34m\u001b[0m\u001b[0;34m\u001b[0m\u001b[0m\n\u001b[1;32m     27\u001b[0m         \u001b[0;32mif\u001b[0m \u001b[0mmodel_path\u001b[0m\u001b[0;34m:\u001b[0m\u001b[0;34m\u001b[0m\u001b[0;34m\u001b[0m\u001b[0m\n\u001b[0;32m---> 28\u001b[0;31m             \u001b[0msaver\u001b[0m\u001b[0;34m.\u001b[0m\u001b[0mrestore\u001b[0m\u001b[0;34m(\u001b[0m\u001b[0msess\u001b[0m\u001b[0;34m,\u001b[0m \u001b[0mmodel_path\u001b[0m\u001b[0;34m)\u001b[0m\u001b[0;34m\u001b[0m\u001b[0;34m\u001b[0m\u001b[0m\n\u001b[0m\u001b[1;32m     29\u001b[0m         \u001b[0mlogits_val\u001b[0m \u001b[0;34m=\u001b[0m \u001b[0mlogits\u001b[0m\u001b[0;34m.\u001b[0m\u001b[0meval\u001b[0m\u001b[0;34m(\u001b[0m\u001b[0mfeed_dict\u001b[0m\u001b[0;34m=\u001b[0m\u001b[0;34m{\u001b[0m\u001b[0mX_input\u001b[0m\u001b[0;34m:\u001b[0m \u001b[0mX_feed\u001b[0m\u001b[0;34m}\u001b[0m\u001b[0;34m)\u001b[0m\u001b[0;34m\u001b[0m\u001b[0;34m\u001b[0m\u001b[0m\n\u001b[1;32m     30\u001b[0m         \u001b[0;32mreturn\u001b[0m \u001b[0mlogits_val\u001b[0m\u001b[0;34m\u001b[0m\u001b[0;34m\u001b[0m\u001b[0m\n",
      "\u001b[0;32m/bin2/pkg_python36/tensorflow/python/training/saver.py\u001b[0m in \u001b[0;36mrestore\u001b[0;34m(self, sess, save_path)\u001b[0m\n\u001b[1;32m   1276\u001b[0m     \u001b[0;32mif\u001b[0m \u001b[0;32mnot\u001b[0m \u001b[0mcheckpoint_management\u001b[0m\u001b[0;34m.\u001b[0m\u001b[0mcheckpoint_exists\u001b[0m\u001b[0;34m(\u001b[0m\u001b[0mcompat\u001b[0m\u001b[0;34m.\u001b[0m\u001b[0mas_text\u001b[0m\u001b[0;34m(\u001b[0m\u001b[0msave_path\u001b[0m\u001b[0;34m)\u001b[0m\u001b[0;34m)\u001b[0m\u001b[0;34m:\u001b[0m\u001b[0;34m\u001b[0m\u001b[0;34m\u001b[0m\u001b[0m\n\u001b[1;32m   1277\u001b[0m       raise ValueError(\"The passed save_path is not a valid checkpoint: \" +\n\u001b[0;32m-> 1278\u001b[0;31m                        compat.as_text(save_path))\n\u001b[0m\u001b[1;32m   1279\u001b[0m \u001b[0;34m\u001b[0m\u001b[0m\n\u001b[1;32m   1280\u001b[0m     \u001b[0mlogging\u001b[0m\u001b[0;34m.\u001b[0m\u001b[0minfo\u001b[0m\u001b[0;34m(\u001b[0m\u001b[0;34m\"Restoring parameters from %s\"\u001b[0m\u001b[0;34m,\u001b[0m \u001b[0mcompat\u001b[0m\u001b[0;34m.\u001b[0m\u001b[0mas_text\u001b[0m\u001b[0;34m(\u001b[0m\u001b[0msave_path\u001b[0m\u001b[0;34m)\u001b[0m\u001b[0;34m)\u001b[0m\u001b[0;34m\u001b[0m\u001b[0;34m\u001b[0m\u001b[0m\n",
      "\u001b[0;31mValueError\u001b[0m: The passed save_path is not a valid checkpoint: /home2/jpark/Projects/prs/model/cv_1_test_y_100_lr0.01st0.5sw0.5dr0.5en100_20"
     ]
    }
   ],
   "source": [
    "pred_10_list = []\n",
    "in_fold_num = None  #최종 결과에 대해서만 예측\n",
    "for fold_num in range(1, 6):\n",
    "        X_train, y_train, X_test, y_test = build_data(fold_num, in_fold_num, hparam)\n",
    "        pred_val = get_reconstructed(X_test, logits,\n",
    "                                       get_bed_path('model_yi_ex', 'test',\n",
    "                                                    fold_num, in_fold_num=in_fold_num, y=y_value, ex=ex_num,\n",
    "                                                    model_key=get_model_key(hdict[0][0][0][0][3]), epoch=10))\n",
    "        pred_df = pd.concat([pd.DataFrame(pred_val.reshape(X_test.shape[0]*X_test.shape[1], 1), columns=['pred']),\n",
    "               pd.DataFrame(X_test.reshape(X_test.shape[0]*X_test.shape[1]), columns=['x_test'])], axis=1)\n",
    "        pred_10_list.append(pred_df)"
   ]
  },
  {
   "cell_type": "code",
   "execution_count": 1113,
   "metadata": {},
   "outputs": [],
   "source": [
    "pred_list = []\n",
    "code_list =\n",
    "in_fold_num = None  #최종 결과에 대해서만 예측\n",
    "for fold_num in range(1, 6):\n",
    "        X_train, y_train, X_test, y_test = build_data(fold_num, in_fold_num, hparam)\n",
    "        pred_val = get_reconstructed(X_test, logits,\n",
    "                                       get_bed_path('model_yi_ex', 'test',\n",
    "                                                    fold_num, in_fold_num=in_fold_num, y=y_value, ex=ex_num,\n",
    "                                                    model_key=get_model_key(hdict[0][0][0][0][3]), epoch=get_epoch_min_loss(hdict, fold_num, in_fold_num)))\n",
    "        code_0 = get_code_0(X_test, logits,\n",
    "                                       get_bed_path('model_yi_ex', 'test',\n",
    "                                                    fold_num, in_fold_num=in_fold_num, y=y_value, ex=ex_num,\n",
    "                                                    model_key=get_model_key(hdict[0][0][0][0][3]), epoch=get_epoch_min_loss(hdict, fold_num, in_fold_num)))\n",
    "        pred_df = pd.concat([pd.DataFrame(pred_val.reshape(X_test.shape[0]*X_test.shape[1], 1), columns=['pred']),\n",
    "               pd.DataFrame(X_test.reshape(X_test.shape[0]*X_test.shape[1]), columns=['x_test'])], axis=1)\n",
    "        pred_list.append(pred_df)"
   ]
  },
  {
   "cell_type": "code",
   "execution_count": 1118,
   "metadata": {},
   "outputs": [],
   "source": [
    "pred_all = reduce(lambda x, y: pd.concat([x, y]), pred_list)"
   ]
  },
  {
   "cell_type": "code",
   "execution_count": 1127,
   "metadata": {},
   "outputs": [
    {
     "data": {
      "text/plain": [
       "<matplotlib.axes._subplots.AxesSubplot at 0x7f41d0b6c8d0>"
      ]
     },
     "execution_count": 1127,
     "metadata": {},
     "output_type": "execute_result"
    },
    {
     "data": {
      "image/png": "[encoded data removed]",
      "text/plain": [
       "<Figure size 432x288 with 1 Axes>"
      ]
     },
     "metadata": {
      "needs_background": "light"
     },
     "output_type": "display_data"
    }
   ],
   "source": [
    "pred_all[pred_all['x_test']==0]['pred'].plot.kde()"
   ]
  },
  {
   "cell_type": "code",
   "execution_count": 1129,
   "metadata": {},
   "outputs": [
    {
     "data": {
      "text/plain": [
       "<matplotlib.axes._subplots.AxesSubplot at 0x7f41d23aea20>"
      ]
     },
     "execution_count": 1129,
     "metadata": {},
     "output_type": "execute_result"
    },
    {
     "data": {
      "image/png": "[encoded data removed]",
      "text/plain": [
       "<Figure size 432x288 with 1 Axes>"
      ]
     },
     "metadata": {
      "needs_background": "light"
     },
     "output_type": "display_data"
    }
   ],
   "source": [
    "pred_all[pred_all['x_test']==2]['pred'].plot.kde()"
   ]
  },
  {
   "cell_type": "code",
   "execution_count": null,
   "metadata": {},
   "outputs": [],
   "source": []
  },
  {
   "cell_type": "code",
   "execution_count": 1049,
   "metadata": {},
   "outputs": [
    {
     "ename": "ValueError",
     "evalue": "The passed save_path is not a valid checkpoint: /home2/jpark/Projects/prs/model/cv_5_test_y_100_None_None",
     "output_type": "error",
     "traceback": [
      "\u001b[0;31m---------------------------------------------------------------------------\u001b[0m",
      "\u001b[0;31mValueError\u001b[0m                                Traceback (most recent call last)",
      "\u001b[0;32m<ipython-input-1049-cc269ed13b15>\u001b[0m in \u001b[0;36m<module>\u001b[0;34m\u001b[0m\n\u001b[1;32m     15\u001b[0m         \u001b[0;32mreturn\u001b[0m \u001b[0mhidden0_val\u001b[0m\u001b[0;34m\u001b[0m\u001b[0;34m\u001b[0m\u001b[0m\n\u001b[1;32m     16\u001b[0m \u001b[0;34m\u001b[0m\u001b[0m\n\u001b[0;32m---> 17\u001b[0;31m \u001b[0mreturn_val\u001b[0m \u001b[0;34m=\u001b[0m \u001b[0mget_reconstructed\u001b[0m\u001b[0;34m(\u001b[0m\u001b[0mtarget\u001b[0m\u001b[0;34m,\u001b[0m \u001b[0mlogits\u001b[0m\u001b[0;34m,\u001b[0m \u001b[0mget_bed_path\u001b[0m\u001b[0;34m(\u001b[0m\u001b[0;34m'model_yi_ex'\u001b[0m\u001b[0;34m,\u001b[0m \u001b[0;34m'test'\u001b[0m\u001b[0;34m,\u001b[0m \u001b[0mfold_num\u001b[0m\u001b[0;34m,\u001b[0m \u001b[0min_fold_num\u001b[0m\u001b[0;34m=\u001b[0m\u001b[0min_fold_num\u001b[0m\u001b[0;34m,\u001b[0m \u001b[0my\u001b[0m\u001b[0;34m=\u001b[0m\u001b[0my_value\u001b[0m\u001b[0;34m,\u001b[0m \u001b[0mex\u001b[0m\u001b[0;34m=\u001b[0m\u001b[0mex_num\u001b[0m\u001b[0;34m)\u001b[0m\u001b[0;34m)\u001b[0m\u001b[0;34m\u001b[0m\u001b[0;34m\u001b[0m\u001b[0m\n\u001b[0m\u001b[1;32m     18\u001b[0m \u001b[0mplt\u001b[0m\u001b[0;34m.\u001b[0m\u001b[0mscatter\u001b[0m\u001b[0;34m(\u001b[0m\u001b[0mreturn_val\u001b[0m\u001b[0;34m[\u001b[0m\u001b[0;36m0\u001b[0m\u001b[0;34m]\u001b[0m\u001b[0;34m,\u001b[0m \u001b[0mtarget\u001b[0m\u001b[0;34m[\u001b[0m\u001b[0;36m0\u001b[0m\u001b[0;34m]\u001b[0m\u001b[0;34m,\u001b[0m \u001b[0malpha\u001b[0m\u001b[0;34m=\u001b[0m\u001b[0;36m0.1\u001b[0m\u001b[0;34m)\u001b[0m\u001b[0;34m\u001b[0m\u001b[0;34m\u001b[0m\u001b[0m\n\u001b[1;32m     19\u001b[0m \u001b[0mcode_0\u001b[0m \u001b[0;34m=\u001b[0m \u001b[0mget_code_0\u001b[0m\u001b[0;34m(\u001b[0m\u001b[0mX_test\u001b[0m\u001b[0;34m,\u001b[0m \u001b[0mlogits\u001b[0m\u001b[0;34m,\u001b[0m \u001b[0mget_bed_path\u001b[0m\u001b[0;34m(\u001b[0m\u001b[0;34m'model_yi_ex'\u001b[0m\u001b[0;34m,\u001b[0m \u001b[0;34m'test'\u001b[0m\u001b[0;34m,\u001b[0m \u001b[0mfold_num\u001b[0m\u001b[0;34m,\u001b[0m \u001b[0min_fold_num\u001b[0m\u001b[0;34m=\u001b[0m\u001b[0min_fold_num\u001b[0m\u001b[0;34m,\u001b[0m \u001b[0my\u001b[0m\u001b[0;34m=\u001b[0m\u001b[0my_value\u001b[0m\u001b[0;34m,\u001b[0m \u001b[0mex\u001b[0m\u001b[0;34m=\u001b[0m\u001b[0mex_num\u001b[0m\u001b[0;34m)\u001b[0m\u001b[0;34m)\u001b[0m\u001b[0;34m\u001b[0m\u001b[0;34m\u001b[0m\u001b[0m\n",
      "\u001b[0;32m<ipython-input-1049-cc269ed13b15>\u001b[0m in \u001b[0;36mget_reconstructed\u001b[0;34m(X_feed, logits, model_path)\u001b[0m\n\u001b[1;32m      4\u001b[0m     \u001b[0;32mwith\u001b[0m \u001b[0mtf\u001b[0m\u001b[0;34m.\u001b[0m\u001b[0mSession\u001b[0m\u001b[0;34m(\u001b[0m\u001b[0;34m)\u001b[0m \u001b[0;32mas\u001b[0m \u001b[0msess\u001b[0m\u001b[0;34m:\u001b[0m\u001b[0;34m\u001b[0m\u001b[0;34m\u001b[0m\u001b[0m\n\u001b[1;32m      5\u001b[0m         \u001b[0;32mif\u001b[0m \u001b[0mmodel_path\u001b[0m\u001b[0;34m:\u001b[0m\u001b[0;34m\u001b[0m\u001b[0;34m\u001b[0m\u001b[0m\n\u001b[0;32m----> 6\u001b[0;31m             \u001b[0msaver\u001b[0m\u001b[0;34m.\u001b[0m\u001b[0mrestore\u001b[0m\u001b[0;34m(\u001b[0m\u001b[0msess\u001b[0m\u001b[0;34m,\u001b[0m \u001b[0mmodel_path\u001b[0m\u001b[0;34m)\u001b[0m\u001b[0;34m\u001b[0m\u001b[0;34m\u001b[0m\u001b[0m\n\u001b[0m\u001b[1;32m      7\u001b[0m         \u001b[0mlogits_val\u001b[0m \u001b[0;34m=\u001b[0m \u001b[0mlogits\u001b[0m\u001b[0;34m.\u001b[0m\u001b[0meval\u001b[0m\u001b[0;34m(\u001b[0m\u001b[0mfeed_dict\u001b[0m\u001b[0;34m=\u001b[0m\u001b[0;34m{\u001b[0m\u001b[0mX_input\u001b[0m\u001b[0;34m:\u001b[0m \u001b[0mX_feed\u001b[0m\u001b[0;34m}\u001b[0m\u001b[0;34m)\u001b[0m\u001b[0;34m\u001b[0m\u001b[0;34m\u001b[0m\u001b[0m\n\u001b[1;32m      8\u001b[0m         \u001b[0;32mreturn\u001b[0m \u001b[0mlogits_val\u001b[0m\u001b[0;34m\u001b[0m\u001b[0;34m\u001b[0m\u001b[0m\n",
      "\u001b[0;32m/bin2/pkg_python36/tensorflow/python/training/saver.py\u001b[0m in \u001b[0;36mrestore\u001b[0;34m(self, sess, save_path)\u001b[0m\n\u001b[1;32m   1276\u001b[0m     \u001b[0;32mif\u001b[0m \u001b[0;32mnot\u001b[0m \u001b[0mcheckpoint_management\u001b[0m\u001b[0;34m.\u001b[0m\u001b[0mcheckpoint_exists\u001b[0m\u001b[0;34m(\u001b[0m\u001b[0mcompat\u001b[0m\u001b[0;34m.\u001b[0m\u001b[0mas_text\u001b[0m\u001b[0;34m(\u001b[0m\u001b[0msave_path\u001b[0m\u001b[0;34m)\u001b[0m\u001b[0;34m)\u001b[0m\u001b[0;34m:\u001b[0m\u001b[0;34m\u001b[0m\u001b[0;34m\u001b[0m\u001b[0m\n\u001b[1;32m   1277\u001b[0m       raise ValueError(\"The passed save_path is not a valid checkpoint: \" +\n\u001b[0;32m-> 1278\u001b[0;31m                        compat.as_text(save_path))\n\u001b[0m\u001b[1;32m   1279\u001b[0m \u001b[0;34m\u001b[0m\u001b[0m\n\u001b[1;32m   1280\u001b[0m     \u001b[0mlogging\u001b[0m\u001b[0;34m.\u001b[0m\u001b[0minfo\u001b[0m\u001b[0;34m(\u001b[0m\u001b[0;34m\"Restoring parameters from %s\"\u001b[0m\u001b[0;34m,\u001b[0m \u001b[0mcompat\u001b[0m\u001b[0;34m.\u001b[0m\u001b[0mas_text\u001b[0m\u001b[0;34m(\u001b[0m\u001b[0msave_path\u001b[0m\u001b[0;34m)\u001b[0m\u001b[0;34m)\u001b[0m\u001b[0;34m\u001b[0m\u001b[0;34m\u001b[0m\u001b[0m\n",
      "\u001b[0;31mValueError\u001b[0m: The passed save_path is not a valid checkpoint: /home2/jpark/Projects/prs/model/cv_5_test_y_100_None_None"
     ]
    }
   ],
   "source": [
    "target = X_test[2:3]\n",
    "\n",
    "def get_reconstructed(X_feed, logits, model_path):\n",
    "    with tf.Session() as sess:\n",
    "        if model_path:\n",
    "            saver.restore(sess, model_path)\n",
    "        logits_val = logits.eval(feed_dict={X_input: X_feed})\n",
    "        return logits_val\n",
    "    \n",
    "\n",
    "\n",
    "return_val = get_reconstructed(target, logits, get_bed_path('model_yi_ex', 'test', fold_num, in_fold_num=in_fold_num, y=y_value, ex=ex_num))\n",
    "plt.scatter(return_val[0], target[0], alpha=0.1)\n",
    "code_0 = get_code_0(X_test, logits, get_bed_path('model_yi_ex', 'test', fold_num, in_fold_num=in_fold_num, y=y_value, ex=ex_num))\n",
    "plt.scatter(code_0, code_0, alpha=1)\n",
    "\n",
    "plt.scatter(return_val[0], target[0], alpha=0.5)"
   ]
  },
  {
   "cell_type": "code",
   "execution_count": 580,
   "metadata": {},
   "outputs": [
    {
     "data": {
      "text/html": [
       "<div>\n",
       "<style scoped>\n",
       "    .dataframe tbody tr th:only-of-type {\n",
       "        vertical-align: middle;\n",
       "    }\n",
       "\n",
       "    .dataframe tbody tr th {\n",
       "        vertical-align: top;\n",
       "    }\n",
       "\n",
       "    .dataframe thead th {\n",
       "        text-align: right;\n",
       "    }\n",
       "</style>\n",
       "<table border=\"1\" class=\"dataframe\">\n",
       "  <thead>\n",
       "    <tr style=\"text-align: right;\">\n",
       "      <th></th>\n",
       "      <th>y</th>\n",
       "    </tr>\n",
       "  </thead>\n",
       "  <tbody>\n",
       "    <tr>\n",
       "      <th>0</th>\n",
       "      <td>0</td>\n",
       "    </tr>\n",
       "    <tr>\n",
       "      <th>1</th>\n",
       "      <td>0</td>\n",
       "    </tr>\n",
       "    <tr>\n",
       "      <th>2</th>\n",
       "      <td>0</td>\n",
       "    </tr>\n",
       "    <tr>\n",
       "      <th>3</th>\n",
       "      <td>0</td>\n",
       "    </tr>\n",
       "    <tr>\n",
       "      <th>4</th>\n",
       "      <td>0</td>\n",
       "    </tr>\n",
       "    <tr>\n",
       "      <th>...</th>\n",
       "      <td>...</td>\n",
       "    </tr>\n",
       "    <tr>\n",
       "      <th>780</th>\n",
       "      <td>0</td>\n",
       "    </tr>\n",
       "    <tr>\n",
       "      <th>781</th>\n",
       "      <td>0</td>\n",
       "    </tr>\n",
       "    <tr>\n",
       "      <th>782</th>\n",
       "      <td>0</td>\n",
       "    </tr>\n",
       "    <tr>\n",
       "      <th>783</th>\n",
       "      <td>0</td>\n",
       "    </tr>\n",
       "    <tr>\n",
       "      <th>784</th>\n",
       "      <td>0</td>\n",
       "    </tr>\n",
       "  </tbody>\n",
       "</table>\n",
       "<p>785 rows × 1 columns</p>\n",
       "</div>"
      ],
      "text/plain": [
       "     y\n",
       "0    0\n",
       "1    0\n",
       "2    0\n",
       "3    0\n",
       "4    0\n",
       "..  ..\n",
       "780  0\n",
       "781  0\n",
       "782  0\n",
       "783  0\n",
       "784  0\n",
       "\n",
       "[785 rows x 1 columns]"
      ]
     },
     "execution_count": 580,
     "metadata": {},
     "output_type": "execute_result"
    }
   ],
   "source": [
    "pd.DataFrame(y_test, columns=['y'])"
   ]
  },
  {
   "cell_type": "code",
   "execution_count": 520,
   "metadata": {},
   "outputs": [
    {
     "data": {
      "text/html": [
       "<div>\n",
       "<style scoped>\n",
       "    .dataframe tbody tr th:only-of-type {\n",
       "        vertical-align: middle;\n",
       "    }\n",
       "\n",
       "    .dataframe tbody tr th {\n",
       "        vertical-align: top;\n",
       "    }\n",
       "\n",
       "    .dataframe thead th {\n",
       "        text-align: right;\n",
       "    }\n",
       "</style>\n",
       "<table border=\"1\" class=\"dataframe\">\n",
       "  <thead>\n",
       "    <tr style=\"text-align: right;\">\n",
       "      <th></th>\n",
       "      <th>X</th>\n",
       "    </tr>\n",
       "  </thead>\n",
       "  <tbody>\n",
       "    <tr>\n",
       "      <th>0</th>\n",
       "      <td>0.833514</td>\n",
       "    </tr>\n",
       "    <tr>\n",
       "      <th>1</th>\n",
       "      <td>0.833822</td>\n",
       "    </tr>\n",
       "    <tr>\n",
       "      <th>2</th>\n",
       "      <td>0.869191</td>\n",
       "    </tr>\n",
       "    <tr>\n",
       "      <th>3</th>\n",
       "      <td>0.869579</td>\n",
       "    </tr>\n",
       "    <tr>\n",
       "      <th>4</th>\n",
       "      <td>0.832944</td>\n",
       "    </tr>\n",
       "    <tr>\n",
       "      <th>...</th>\n",
       "      <td>...</td>\n",
       "    </tr>\n",
       "    <tr>\n",
       "      <th>780</th>\n",
       "      <td>0.869581</td>\n",
       "    </tr>\n",
       "    <tr>\n",
       "      <th>781</th>\n",
       "      <td>0.834013</td>\n",
       "    </tr>\n",
       "    <tr>\n",
       "      <th>782</th>\n",
       "      <td>0.869143</td>\n",
       "    </tr>\n",
       "    <tr>\n",
       "      <th>783</th>\n",
       "      <td>0.833779</td>\n",
       "    </tr>\n",
       "    <tr>\n",
       "      <th>784</th>\n",
       "      <td>0.833975</td>\n",
       "    </tr>\n",
       "  </tbody>\n",
       "</table>\n",
       "<p>785 rows × 1 columns</p>\n",
       "</div>"
      ],
      "text/plain": [
       "            X\n",
       "0    0.833514\n",
       "1    0.833822\n",
       "2    0.869191\n",
       "3    0.869579\n",
       "4    0.832944\n",
       "..        ...\n",
       "780  0.869581\n",
       "781  0.834013\n",
       "782  0.869143\n",
       "783  0.833779\n",
       "784  0.833975\n",
       "\n",
       "[785 rows x 1 columns]"
      ]
     },
     "execution_count": 520,
     "metadata": {},
     "output_type": "execute_result"
    }
   ],
   "source": [
    "pd.DataFrame(code_0, columns=['X'])"
   ]
  },
  {
   "cell_type": "code",
   "execution_count": 522,
   "metadata": {},
   "outputs": [
    {
     "data": {
      "text/html": [
       "<div>\n",
       "<style scoped>\n",
       "    .dataframe tbody tr th:only-of-type {\n",
       "        vertical-align: middle;\n",
       "    }\n",
       "\n",
       "    .dataframe tbody tr th {\n",
       "        vertical-align: top;\n",
       "    }\n",
       "\n",
       "    .dataframe thead th {\n",
       "        text-align: right;\n",
       "    }\n",
       "</style>\n",
       "<table border=\"1\" class=\"dataframe\">\n",
       "  <thead>\n",
       "    <tr style=\"text-align: right;\">\n",
       "      <th></th>\n",
       "      <th>y</th>\n",
       "    </tr>\n",
       "  </thead>\n",
       "  <tbody>\n",
       "    <tr>\n",
       "      <th>0</th>\n",
       "      <td>0</td>\n",
       "    </tr>\n",
       "    <tr>\n",
       "      <th>1</th>\n",
       "      <td>0</td>\n",
       "    </tr>\n",
       "    <tr>\n",
       "      <th>2</th>\n",
       "      <td>0</td>\n",
       "    </tr>\n",
       "    <tr>\n",
       "      <th>3</th>\n",
       "      <td>0</td>\n",
       "    </tr>\n",
       "    <tr>\n",
       "      <th>4</th>\n",
       "      <td>0</td>\n",
       "    </tr>\n",
       "    <tr>\n",
       "      <th>...</th>\n",
       "      <td>...</td>\n",
       "    </tr>\n",
       "    <tr>\n",
       "      <th>780</th>\n",
       "      <td>0</td>\n",
       "    </tr>\n",
       "    <tr>\n",
       "      <th>781</th>\n",
       "      <td>0</td>\n",
       "    </tr>\n",
       "    <tr>\n",
       "      <th>782</th>\n",
       "      <td>0</td>\n",
       "    </tr>\n",
       "    <tr>\n",
       "      <th>783</th>\n",
       "      <td>0</td>\n",
       "    </tr>\n",
       "    <tr>\n",
       "      <th>784</th>\n",
       "      <td>0</td>\n",
       "    </tr>\n",
       "  </tbody>\n",
       "</table>\n",
       "<p>785 rows × 1 columns</p>\n",
       "</div>"
      ],
      "text/plain": [
       "     y\n",
       "0    0\n",
       "1    0\n",
       "2    0\n",
       "3    0\n",
       "4    0\n",
       "..  ..\n",
       "780  0\n",
       "781  0\n",
       "782  0\n",
       "783  0\n",
       "784  0\n",
       "\n",
       "[785 rows x 1 columns]"
      ]
     },
     "execution_count": 522,
     "metadata": {},
     "output_type": "execute_result"
    }
   ],
   "source": [
    "pd.DataFrame(y_test, columns=['y'])"
   ]
  },
  {
   "cell_type": "code",
   "execution_count": 543,
   "metadata": {},
   "outputs": [],
   "source": [
    "temp_df = pd.concat([pd.DataFrame(code_0, columns=['X']), pd.DataFrame(y_test, columns=['y'])], axis=1)"
   ]
  },
  {
   "cell_type": "code",
   "execution_count": 544,
   "metadata": {},
   "outputs": [],
   "source": [
    "from sklearn.linear_model import LogisticRegression, LogisticRegressionCV\n",
    "\n",
    "model = LogisticRegressionCV(penalty='l2', class_weight='balanced', max_iter=1000, Cs=20, scoring='roc_auc', tol=1e-7, solver='saga',  random_state=2)"
   ]
  },
  {
   "cell_type": "code",
   "execution_count": 546,
   "metadata": {
    "scrolled": true
   },
   "outputs": [
    {
     "name": "stderr",
     "output_type": "stream",
     "text": [
      "/bin2/pkg_python36/sklearn/utils/validation.py:73: DataConversionWarning: A column-vector y was passed when a 1d array was expected. Please change the shape of y to (n_samples, ), for example using ravel().\n",
      "  return f(**kwargs)\n",
      "/bin2/pkg_python36/sklearn/linear_model/_sag.py:330: ConvergenceWarning: The max_iter was reached which means the coef_ did not converge\n",
      "  \"the coef_ did not converge\", ConvergenceWarning)\n",
      "/bin2/pkg_python36/sklearn/linear_model/_sag.py:330: ConvergenceWarning: The max_iter was reached which means the coef_ did not converge\n",
      "  \"the coef_ did not converge\", ConvergenceWarning)\n",
      "/bin2/pkg_python36/sklearn/linear_model/_sag.py:330: ConvergenceWarning: The max_iter was reached which means the coef_ did not converge\n",
      "  \"the coef_ did not converge\", ConvergenceWarning)\n",
      "/bin2/pkg_python36/sklearn/linear_model/_sag.py:330: ConvergenceWarning: The max_iter was reached which means the coef_ did not converge\n",
      "  \"the coef_ did not converge\", ConvergenceWarning)\n",
      "/bin2/pkg_python36/sklearn/linear_model/_sag.py:330: ConvergenceWarning: The max_iter was reached which means the coef_ did not converge\n",
      "  \"the coef_ did not converge\", ConvergenceWarning)\n",
      "/bin2/pkg_python36/sklearn/linear_model/_sag.py:330: ConvergenceWarning: The max_iter was reached which means the coef_ did not converge\n",
      "  \"the coef_ did not converge\", ConvergenceWarning)\n",
      "/bin2/pkg_python36/sklearn/linear_model/_sag.py:330: ConvergenceWarning: The max_iter was reached which means the coef_ did not converge\n",
      "  \"the coef_ did not converge\", ConvergenceWarning)\n",
      "/bin2/pkg_python36/sklearn/linear_model/_sag.py:330: ConvergenceWarning: The max_iter was reached which means the coef_ did not converge\n",
      "  \"the coef_ did not converge\", ConvergenceWarning)\n",
      "/bin2/pkg_python36/sklearn/linear_model/_sag.py:330: ConvergenceWarning: The max_iter was reached which means the coef_ did not converge\n",
      "  \"the coef_ did not converge\", ConvergenceWarning)\n",
      "/bin2/pkg_python36/sklearn/linear_model/_sag.py:330: ConvergenceWarning: The max_iter was reached which means the coef_ did not converge\n",
      "  \"the coef_ did not converge\", ConvergenceWarning)\n",
      "/bin2/pkg_python36/sklearn/linear_model/_sag.py:330: ConvergenceWarning: The max_iter was reached which means the coef_ did not converge\n",
      "  \"the coef_ did not converge\", ConvergenceWarning)\n",
      "/bin2/pkg_python36/sklearn/linear_model/_sag.py:330: ConvergenceWarning: The max_iter was reached which means the coef_ did not converge\n",
      "  \"the coef_ did not converge\", ConvergenceWarning)\n",
      "/bin2/pkg_python36/sklearn/linear_model/_sag.py:330: ConvergenceWarning: The max_iter was reached which means the coef_ did not converge\n",
      "  \"the coef_ did not converge\", ConvergenceWarning)\n",
      "/bin2/pkg_python36/sklearn/linear_model/_sag.py:330: ConvergenceWarning: The max_iter was reached which means the coef_ did not converge\n",
      "  \"the coef_ did not converge\", ConvergenceWarning)\n",
      "/bin2/pkg_python36/sklearn/linear_model/_sag.py:330: ConvergenceWarning: The max_iter was reached which means the coef_ did not converge\n",
      "  \"the coef_ did not converge\", ConvergenceWarning)\n",
      "/bin2/pkg_python36/sklearn/linear_model/_sag.py:330: ConvergenceWarning: The max_iter was reached which means the coef_ did not converge\n",
      "  \"the coef_ did not converge\", ConvergenceWarning)\n",
      "/bin2/pkg_python36/sklearn/linear_model/_sag.py:330: ConvergenceWarning: The max_iter was reached which means the coef_ did not converge\n",
      "  \"the coef_ did not converge\", ConvergenceWarning)\n"
     ]
    }
   ],
   "source": [
    "from sklearn.metrics import accuracy_score, precision_recall_fscore_support, roc_auc_score\n",
    "\n",
    "for col in ['X']:\n",
    "    scaler = normalize(temp_df, col)\n",
    "\n",
    "fitted_model = model.fit(temp_df[['X']], temp_df[['y']])"
   ]
  },
  {
   "cell_type": "code",
   "execution_count": 548,
   "metadata": {},
   "outputs": [
    {
     "data": {
      "text/plain": [
       "0.5808126868318386"
      ]
     },
     "execution_count": 548,
     "metadata": {},
     "output_type": "execute_result"
    }
   ],
   "source": [
    "roc_auc_score(temp_df[['y']], fitted_model.decision_function(temp_df[['X']]))"
   ]
  },
  {
   "cell_type": "code",
   "execution_count": 542,
   "metadata": {},
   "outputs": [
    {
     "data": {
      "text/plain": [
       "0.5808126868318386"
      ]
     },
     "execution_count": 542,
     "metadata": {},
     "output_type": "execute_result"
    }
   ],
   "source": [
    "roc_auc_score(temp_df[['y']], fitted_model.decision_function(temp_df[['X']]))"
   ]
  },
  {
   "cell_type": "code",
   "execution_count": null,
   "metadata": {},
   "outputs": [],
   "source": [
    "# Train\n",
    "model = LogisticRegressionCV(penalty='l2', class_weight='balanced', max_iter=1000, Cs=20, scoring='roc_auc', tol=1e-7, solver='saga',  random_state=2)\n",
    "fitted_model = model.fit(X_train, y_train)\n",
    "\n",
    "# For test data\n",
    "print('@ Test scores')\n",
    "test_pred = fitted_model.predict(X_test)\n",
    "test_acc = accuracy_score(y_test, test_pred)\n",
    "test_score = precision_recall_fscore_support(y_test, test_pred)\n",
    "test_auc = roc_auc_score(y_test, fitted_model.decision_function(X_test))\n",
    "test_result_list.append([model_name, test_acc, test_score, test_auc])"
   ]
  },
  {
   "cell_type": "code",
   "execution_count": null,
   "metadata": {},
   "outputs": [],
   "source": [
    "plt.boxplot(code_0[y_test==1])"
   ]
  },
  {
   "cell_type": "code",
   "execution_count": 552,
   "metadata": {
    "scrolled": true
   },
   "outputs": [
    {
     "data": {
      "text/plain": [
       "(0, 0.9)"
      ]
     },
     "execution_count": 552,
     "metadata": {},
     "output_type": "execute_result"
    },
    {
     "data": {
      "image/png": "[encoded data removed]",
      "text/plain": [
       "<Figure size 432x288 with 1 Axes>"
      ]
     },
     "metadata": {
      "needs_background": "light"
     },
     "output_type": "display_data"
    }
   ],
   "source": [
    "plt.boxplot(code_0[y_test==1])\n",
    "plt.ylim(0, 0.9)"
   ]
  },
  {
   "cell_type": "code",
   "execution_count": 551,
   "metadata": {},
   "outputs": [
    {
     "data": {
      "text/plain": [
       "(0, 0.9)"
      ]
     },
     "execution_count": 551,
     "metadata": {},
     "output_type": "execute_result"
    },
    {
     "data": {
      "image/png": "[encoded data removed]",
      "text/plain": [
       "<Figure size 432x288 with 1 Axes>"
      ]
     },
     "metadata": {
      "needs_background": "light"
     },
     "output_type": "display_data"
    }
   ],
   "source": [
    "plt.boxplot(code_0[y_test==0])\n",
    "plt.ylim(0, 0.9)"
   ]
  },
  {
   "cell_type": "code",
   "execution_count": null,
   "metadata": {},
   "outputs": [],
   "source": []
  }
 ],
 "metadata": {
  "kernelspec": {
   "display_name": "Python 3",
   "language": "python",
   "name": "python3"
  },
  "language_info": {
   "codemirror_mode": {
    "name": "ipython",
    "version": 3
   },
   "file_extension": ".py",
   "mimetype": "text/x-python",
   "name": "python",
   "nbconvert_exporter": "python",
   "pygments_lexer": "ipython3",
   "version": "3.6.9"
  }
 },
 "nbformat": 4,
 "nbformat_minor": 4
}
